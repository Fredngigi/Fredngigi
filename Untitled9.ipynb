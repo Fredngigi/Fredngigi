{
 "cells": [
  {
   "cell_type": "code",
   "execution_count": 3,
   "id": "bb6f2271",
   "metadata": {},
   "outputs": [],
   "source": [
    "import pandas as pd\n",
    "import matplotlib as mlp\n",
    "import matplotlib.pyplot as plt\n",
    "import os"
   ]
  },
  {
   "cell_type": "code",
   "execution_count": 4,
   "id": "1be0015f",
   "metadata": {},
   "outputs": [
    {
     "name": "stdout",
     "output_type": "stream",
     "text": [
      "        Name in English     Name in French      Name in Spanish  \\\n",
      "ID                                                                \n",
      "1022      South Italian     italien du sud  napolitano-calabrés   \n",
      "1023           Sicilian           sicilien            siciliano   \n",
      "383           Low Saxon          bas-saxon           bajo sajón   \n",
      "335          Belarusian         biélorusse           bielorruso   \n",
      "382             Lombard            lombard             lombardo   \n",
      "...                 ...                ...                  ...   \n",
      "1972           Yonaguni           yonaguni             yonaguni   \n",
      "2018             Yucuna             yucuna               yucuna   \n",
      "2015  Yurutí (Colombia)  yurutí (Colombie)    yurutí (Colombia)   \n",
      "2716          Zangskari          zangskari            zangskari   \n",
      "2177            Zidgali            zidgali              zidgali   \n",
      "\n",
      "                                              Countries  \\\n",
      "ID                                                        \n",
      "1022                                              Italy   \n",
      "1023                                              Italy   \n",
      "383   Germany, Denmark, Netherlands, Poland, Russian...   \n",
      "335   Belarus, Latvia, Lithuania, Poland, Russian Fe...   \n",
      "382                                  Italy, Switzerland   \n",
      "...                                                 ...   \n",
      "1972                                              Japan   \n",
      "2018                                           Colombia   \n",
      "2015                                           Colombia   \n",
      "2716                                    India, Pakistan   \n",
      "2177                                               Oman   \n",
      "\n",
      "             Country codes alpha 3  \\\n",
      "ID                                   \n",
      "1022                           ITA   \n",
      "1023                           ITA   \n",
      "383        DEU, DNK, NLD, POL, RUS   \n",
      "335   BRB, LVA, LTU, POL, RUS, UKR   \n",
      "382                       ITA, CHE   \n",
      "...                            ...   \n",
      "1972                           JPN   \n",
      "2018                           COL   \n",
      "2015                           COL   \n",
      "2716                      IND, PAK   \n",
      "2177                           OMN   \n",
      "\n",
      "                                        ISO639-3 codes Degree of endangerment  \\\n",
      "ID                                                                              \n",
      "1022                                               nap             Vulnerable   \n",
      "1023                                               scn             Vulnerable   \n",
      "383   act, drt, frs, gos, nds, sdz, stl, twd, vel, wep             Vulnerable   \n",
      "335                                                bel             Vulnerable   \n",
      "382                                                lmo  Definitely endangered   \n",
      "...                                                ...                    ...   \n",
      "1972                                               yoi    Severely endangered   \n",
      "2018                                               ycn  Definitely endangered   \n",
      "2015                                               yui  Definitely endangered   \n",
      "2716                                               zau  Definitely endangered   \n",
      "2177                                               NaN  Critically endangered   \n",
      "\n",
      "                                        Alternate names Name in the language  \\\n",
      "ID                                                                             \n",
      "1022  Neapolitan; Neapolitan-Calabrese; неаполитанск...                  NaN   \n",
      "1023                                                NaN                  NaN   \n",
      "383   Low German, Niedersächsisch, Nedersaksisch, Ni...       Neddersassisch   \n",
      "335                                                 NaN                  NaN   \n",
      "382                                                 NaN                  NaN   \n",
      "...                                                 ...                  ...   \n",
      "1972                                                NaN                  NaN   \n",
      "2018                                                NaN                  NaN   \n",
      "2015                                                NaN                  NaN   \n",
      "2716                               Zangs-dkar, Z’angkar                  NaN   \n",
      "2177                                   Zidjali, Zadjali                  NaN   \n",
      "\n",
      "      Number of speakers                                            Sources  \\\n",
      "ID                                                                            \n",
      "1022           7500000.0                                                NaN   \n",
      "1023           5000000.0                                                NaN   \n",
      "383            4800000.0                                                NaN   \n",
      "335            4000000.0  Hienadź Cychun: Weißrussisch. — Lexikon der Sp...   \n",
      "382            3500000.0                                                NaN   \n",
      "...                  ...                                                ...   \n",
      "1972                 NaN  Yukio Uemura: The Ryukyuan language. Endangere...   \n",
      "2018                 NaN                                                NaN   \n",
      "2015                 NaN                                                NaN   \n",
      "2716                 NaN                                                NaN   \n",
      "2177                 NaN  No authoritative source found yet; information...   \n",
      "\n",
      "      Latitude  Longitude                        Description of the location  \n",
      "ID                                                                            \n",
      "1022   40.9798    15.2490  Campania, Lucania (Basilicata), Abruzzi (Abruz...  \n",
      "1023   37.4399    14.5019  Sicily (Sicilia), southern and central Calabri...  \n",
      "383    53.4029    10.3601  northern Germany, the north-eastern part of th...  \n",
      "335    53.9560    27.5756  Belarus except the Polesian-speaking south-wes...  \n",
      "382    45.7215     9.3273  the region of Lombardy (except the southernmos...  \n",
      "...        ...        ...                                                ...  \n",
      "1972   24.4580   122.9802                                    Yonaguni Island  \n",
      "2018   -1.2633   -70.6640                                                NaN  \n",
      "2015    1.1370   -70.2136                                                NaN  \n",
      "2716   34.0833    76.8500                                                NaN  \n",
      "2177   23.4027    58.0957                             Capital area of Muscat  \n",
      "\n",
      "[2722 rows x 14 columns]\n"
     ]
    }
   ],
   "source": [
    "df = pd.read_csv(r'c:\\users\\Mkiki\\desktop\\pandas\\data.csv',index_col=0)\n",
    "print(df)"
   ]
  },
  {
   "cell_type": "code",
   "execution_count": 24,
   "id": "6be93f30",
   "metadata": {},
   "outputs": [
    {
     "name": "stderr",
     "output_type": "stream",
     "text": [
      "<ipython-input-24-ad2bb759d38b>:7: UserWarning: FixedFormatter should only be used together with FixedLocator\n",
      "  ax.set_xticklabels(labels)\n"
     ]
    },
    {
     "data": {
      "image/png": "[encoded data removed]",
      "text/plain": [
       "<Figure size 432x288 with 1 Axes>"
      ]
     },
     "metadata": {
      "needs_background": "light"
     },
     "output_type": "display_data"
    }
   ],
   "source": [
    "import numpy as np\n",
    "import matplotlib as mlp\n",
    "fig,ax = plt.subplots()\n",
    "ax.bar(df['Degree of endangerment'],df.index)\n",
    "plt.xticks(rotation=90)\n",
    "bars = ['vulnerable','Critically endangered','Severely endangered','Definetly endangered','Extint']\n",
    "ax.set_xticklabels(labels)\n",
    "height = [628,554,680,607,253]\n",
    "labels = ['Vulnerable','Severely endangered','Definetly endangered','Critically endangered','Extint']\n",
    "x_pos = np.arange(len(bars))\n",
    "plt.bar(x_pos,height,color=['black','yellow','purple','red','cyan'])\n",
    "plt.show()"
   ]
  }
 ],
 "metadata": {
  "kernelspec": {
   "display_name": "Python 3",
   "language": "python",
   "name": "python3"
  },
  "language_info": {
   "codemirror_mode": {
    "name": "ipython",
    "version": 3
   },
   "file_extension": ".py",
   "mimetype": "text/x-python",
   "name": "python",
   "nbconvert_exporter": "python",
   "pygments_lexer": "ipython3",
   "version": "3.8.8"
  }
 },
 "nbformat": 4,
 "nbformat_minor": 5
}
